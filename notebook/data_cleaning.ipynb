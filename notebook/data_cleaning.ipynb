{
  "nbformat": 4,
  "nbformat_minor": 5,
  "metadata": {},
  "cells": [
    {
      "id": "cd7aab2e",
      "cell_type": "markdown",
      "source": "# Data Cleaning Notebook\nThis notebook loads the raw dataset, inspects it, performs cleaning steps, and compares it with the provided cleaned dataset.",
      "metadata": {}
    },
    {
      "id": "370854a9",
      "cell_type": "code",
      "metadata": {},
      "execution_count": null,
      "source": "import pandas as pd\nimport numpy as np\n\n# Load the datasets\nraw = pd.read_csv('raw_dataset.csv')\ncleaned = pd.read_csv('cleaned_dataset.csv')\n\nraw.head()",
      "outputs": []
    },
    {
      "id": "0e2c0063",
      "cell_type": "code",
      "metadata": {},
      "execution_count": null,
      "source": "# Inspect raw dataset\nraw.info()\nraw.describe(include='all')",
      "outputs": []
    },
    {
      "id": "a09740d8",
      "cell_type": "code",
      "metadata": {},
      "execution_count": null,
      "source": "# Check missing values\nraw.isnull().sum().sort_values(ascending=False)",
      "outputs": []
    },
    {
      "id": "75a1f0ab",
      "cell_type": "code",
      "metadata": {},
      "execution_count": null,
      "source": "# Cleaning steps:\n# 1. Fill numeric columns with median\nfor col in raw.select_dtypes(include='number').columns:\n    raw[col].fillna(raw[col].median(), inplace=True)\n\n# 2. Fill categorical columns with mode\nfor col in raw.select_dtypes(exclude='number').columns:\n    if raw[col].isnull().any():\n        raw[col].fillna(raw[col].mode()[0], inplace=True)\n\n# 3. Drop duplicates\nraw.drop_duplicates(inplace=True)\n\nraw.head()",
      "outputs": []
    },
    {
      "id": "9d969874",
      "cell_type": "code",
      "metadata": {},
      "execution_count": null,
      "source": "# Compare with provided cleaned dataset\nprint('Raw cleaned shape:', raw.shape)\nprint('Provided cleaned shape:', cleaned.shape)\n\n# Check if numeric stats are close\nnp.allclose(raw.describe(), cleaned.describe(), equal_nan=True)",
      "outputs": []
    },
    {
      "id": "6359568c",
      "cell_type": "code",
      "metadata": {},
      "execution_count": null,
      "source": "# Save the cleaned dataset\nraw.to_csv('cleaned_dataset_final.csv', index=False)\nprint('Cleaned dataset saved as cleaned_dataset_final.csv')",
      "outputs": []
    }
  ]
}